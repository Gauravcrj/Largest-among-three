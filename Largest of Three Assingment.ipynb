{
 "cells": [
  {
   "cell_type": "code",
   "execution_count": 5,
   "id": "f610095c",
   "metadata": {},
   "outputs": [
    {
     "name": "stdout",
     "output_type": "stream",
     "text": [
      "Enter the first no  :  2\n",
      "Enter the second no :  3\n",
      "Enter the third no  :  7\n",
      "7 Which is the Third no is the largest among all \n"
     ]
    }
   ],
   "source": [
    "a=int(input(\"Enter the first no  :  \"))\n",
    "b=int(input(\"Enter the second no :  \"))\n",
    "c=int(input(\"Enter the third no  :  \"))\n",
    "if a>b and a>c:\n",
    "    print(str(a)+\" Which is the First no is the largest among all \")\n",
    "elif b>a and b>c:\n",
    "    print(str(b)+\" Which is the Second no is the largest among all \")\n",
    "else:\n",
    "    print(str(c)+\" Which is the Third no is the largest among all \")\n",
    "    \n",
    "    "
   ]
  },
  {
   "cell_type": "code",
   "execution_count": 2,
   "id": "cc3b291d",
   "metadata": {},
   "outputs": [
    {
     "name": "stdout",
     "output_type": "stream",
     "text": [
      "First no is the largest no 2\n"
     ]
    }
   ],
   "source": []
  },
  {
   "cell_type": "code",
   "execution_count": null,
   "id": "68c950e3",
   "metadata": {},
   "outputs": [],
   "source": []
  },
  {
   "cell_type": "code",
   "execution_count": null,
   "id": "68d92c09",
   "metadata": {},
   "outputs": [],
   "source": []
  }
 ],
 "metadata": {
  "kernelspec": {
   "display_name": "Python 3",
   "language": "python",
   "name": "python3"
  },
  "language_info": {
   "codemirror_mode": {
    "name": "ipython",
    "version": 3
   },
   "file_extension": ".py",
   "mimetype": "text/x-python",
   "name": "python",
   "nbconvert_exporter": "python",
   "pygments_lexer": "ipython3",
   "version": "3.8.8"
  }
 },
 "nbformat": 4,
 "nbformat_minor": 5
}
